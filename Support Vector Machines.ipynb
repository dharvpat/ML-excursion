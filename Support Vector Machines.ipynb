{
 "cells": [
  {
   "cell_type": "code",
   "execution_count": 8,
   "metadata": {},
   "outputs": [],
   "source": [
    "import numpy as np\n",
    "import pandas as pd\n",
    "import matplotlib.pyplot as plt\n",
    "import matplotlib.colors as colors\n",
    "from sklearn.utils import resample\n",
    "from sklearn.model_selection import train_test_split\n",
    "from sklearn.preprocessing import scale\n",
    "from sklearn.svm import SVC\n",
    "from sklearn.model_selection import GridSearchCV\n",
    "from sklearn.metrics import confusion_matrix\n",
    "from sklearn.metrics import ConfusionMatrixDisplay\n",
    "from sklearn.decomposition import PCA"
   ]
  },
  {
   "cell_type": "code",
   "execution_count": 9,
   "metadata": {},
   "outputs": [],
   "source": [
    "df = pd.read_excel('credit_card_default.xls',header = 1)"
   ]
  },
  {
   "cell_type": "code",
   "execution_count": 10,
   "metadata": {},
   "outputs": [],
   "source": [
    "df.rename({'default payment next month' : 'DEFAULT'}, axis = 'columns', inplace = True)"
   ]
  },
  {
   "cell_type": "code",
   "execution_count": 11,
   "metadata": {},
   "outputs": [],
   "source": [
    "df.drop('ID', axis = 1, inplace= True)"
   ]
  },
  {
   "cell_type": "code",
   "execution_count": 12,
   "metadata": {},
   "outputs": [],
   "source": [
    "df = df.loc[(df['EDUCATION']!=0)&(df['MARRIAGE']!=0)]"
   ]
  },
  {
   "cell_type": "code",
   "execution_count": 13,
   "metadata": {},
   "outputs": [],
   "source": [
    "df_no_default = df[df['DEFAULT'] == 0]\n",
    "df_yes_default = df[df['DEFAULT'] == 1]"
   ]
  },
  {
   "cell_type": "code",
   "execution_count": 14,
   "metadata": {},
   "outputs": [],
   "source": [
    "df_no_default_downsampled = resample(df_no_default, replace=False, n_samples=6631)\n",
    "df_yes_default_downsampled = resample(df_yes_default, replace=False, n_samples=6631)"
   ]
  },
  {
   "cell_type": "code",
   "execution_count": 15,
   "metadata": {},
   "outputs": [],
   "source": [
    "df_small = pd.concat([df_no_default_downsampled, df_yes_default_downsampled])"
   ]
  },
  {
   "cell_type": "code",
   "execution_count": 16,
   "metadata": {},
   "outputs": [],
   "source": [
    "X = df_small.drop('DEFAULT', axis = 1).copy()\n",
    "Y = df_small['DEFAULT'].copy()"
   ]
  },
  {
   "cell_type": "code",
   "execution_count": 17,
   "metadata": {},
   "outputs": [],
   "source": [
    "X_encoded = pd.get_dummies(X, columns=['MARRIAGE', 'SEX', 'EDUCATION', 'PAY_0', 'PAY_2', 'PAY_3', 'PAY_4', 'PAY_5', 'PAY_6'], dtype = 'float32')"
   ]
  },
  {
   "cell_type": "code",
   "execution_count": 18,
   "metadata": {},
   "outputs": [
    {
     "data": {
      "text/plain": [
       "9946"
      ]
     },
     "execution_count": 18,
     "metadata": {},
     "output_type": "execute_result"
    }
   ],
   "source": [
    "X_train, X_test, Y_train, Y_test = train_test_split(X,Y)\n",
    "X_train_scaled = scale(X_train)\n",
    "X_test_scaled = scale(X_test)\n",
    "len(X_train)"
   ]
  },
  {
   "cell_type": "code",
   "execution_count": 19,
   "metadata": {},
   "outputs": [
    {
     "name": "stdout",
     "output_type": "stream",
     "text": [
      "[LibSVM].......*...*\n",
      "optimization finished, #iter = 10429\n",
      "obj = -6129.203900, rho = 0.031132\n",
      "nSV = 6766, nBSV = 6090\n",
      "Total nSV = 6766\n"
     ]
    },
    {
     "data": {
      "text/html": [
       "<style>#sk-container-id-1 {color: black;}#sk-container-id-1 pre{padding: 0;}#sk-container-id-1 div.sk-toggleable {background-color: white;}#sk-container-id-1 label.sk-toggleable__label {cursor: pointer;display: block;width: 100%;margin-bottom: 0;padding: 0.3em;box-sizing: border-box;text-align: center;}#sk-container-id-1 label.sk-toggleable__label-arrow:before {content: \"▸\";float: left;margin-right: 0.25em;color: #696969;}#sk-container-id-1 label.sk-toggleable__label-arrow:hover:before {color: black;}#sk-container-id-1 div.sk-estimator:hover label.sk-toggleable__label-arrow:before {color: black;}#sk-container-id-1 div.sk-toggleable__content {max-height: 0;max-width: 0;overflow: hidden;text-align: left;background-color: #f0f8ff;}#sk-container-id-1 div.sk-toggleable__content pre {margin: 0.2em;color: black;border-radius: 0.25em;background-color: #f0f8ff;}#sk-container-id-1 input.sk-toggleable__control:checked~div.sk-toggleable__content {max-height: 200px;max-width: 100%;overflow: auto;}#sk-container-id-1 input.sk-toggleable__control:checked~label.sk-toggleable__label-arrow:before {content: \"▾\";}#sk-container-id-1 div.sk-estimator input.sk-toggleable__control:checked~label.sk-toggleable__label {background-color: #d4ebff;}#sk-container-id-1 div.sk-label input.sk-toggleable__control:checked~label.sk-toggleable__label {background-color: #d4ebff;}#sk-container-id-1 input.sk-hidden--visually {border: 0;clip: rect(1px 1px 1px 1px);clip: rect(1px, 1px, 1px, 1px);height: 1px;margin: -1px;overflow: hidden;padding: 0;position: absolute;width: 1px;}#sk-container-id-1 div.sk-estimator {font-family: monospace;background-color: #f0f8ff;border: 1px dotted black;border-radius: 0.25em;box-sizing: border-box;margin-bottom: 0.5em;}#sk-container-id-1 div.sk-estimator:hover {background-color: #d4ebff;}#sk-container-id-1 div.sk-parallel-item::after {content: \"\";width: 100%;border-bottom: 1px solid gray;flex-grow: 1;}#sk-container-id-1 div.sk-label:hover label.sk-toggleable__label {background-color: #d4ebff;}#sk-container-id-1 div.sk-serial::before {content: \"\";position: absolute;border-left: 1px solid gray;box-sizing: border-box;top: 0;bottom: 0;left: 50%;z-index: 0;}#sk-container-id-1 div.sk-serial {display: flex;flex-direction: column;align-items: center;background-color: white;padding-right: 0.2em;padding-left: 0.2em;position: relative;}#sk-container-id-1 div.sk-item {position: relative;z-index: 1;}#sk-container-id-1 div.sk-parallel {display: flex;align-items: stretch;justify-content: center;background-color: white;position: relative;}#sk-container-id-1 div.sk-item::before, #sk-container-id-1 div.sk-parallel-item::before {content: \"\";position: absolute;border-left: 1px solid gray;box-sizing: border-box;top: 0;bottom: 0;left: 50%;z-index: -1;}#sk-container-id-1 div.sk-parallel-item {display: flex;flex-direction: column;z-index: 1;position: relative;background-color: white;}#sk-container-id-1 div.sk-parallel-item:first-child::after {align-self: flex-end;width: 50%;}#sk-container-id-1 div.sk-parallel-item:last-child::after {align-self: flex-start;width: 50%;}#sk-container-id-1 div.sk-parallel-item:only-child::after {width: 0;}#sk-container-id-1 div.sk-dashed-wrapped {border: 1px dashed gray;margin: 0 0.4em 0.5em 0.4em;box-sizing: border-box;padding-bottom: 0.4em;background-color: white;}#sk-container-id-1 div.sk-label label {font-family: monospace;font-weight: bold;display: inline-block;line-height: 1.2em;}#sk-container-id-1 div.sk-label-container {text-align: center;}#sk-container-id-1 div.sk-container {/* jupyter's `normalize.less` sets `[hidden] { display: none; }` but bootstrap.min.css set `[hidden] { display: none !important; }` so we also need the `!important` here to be able to override the default hidden behavior on the sphinx rendered scikit-learn.org. See: https://github.com/scikit-learn/scikit-learn/issues/21755 */display: inline-block !important;position: relative;}#sk-container-id-1 div.sk-text-repr-fallback {display: none;}</style><div id=\"sk-container-id-1\" class=\"sk-top-container\"><div class=\"sk-text-repr-fallback\"><pre>SVC(gamma=&#x27;auto&#x27;, verbose=True)</pre><b>In a Jupyter environment, please rerun this cell to show the HTML representation or trust the notebook. <br />On GitHub, the HTML representation is unable to render, please try loading this page with nbviewer.org.</b></div><div class=\"sk-container\" hidden><div class=\"sk-item\"><div class=\"sk-estimator sk-toggleable\"><input class=\"sk-toggleable__control sk-hidden--visually\" id=\"sk-estimator-id-1\" type=\"checkbox\" checked><label for=\"sk-estimator-id-1\" class=\"sk-toggleable__label sk-toggleable__label-arrow\">SVC</label><div class=\"sk-toggleable__content\"><pre>SVC(gamma=&#x27;auto&#x27;, verbose=True)</pre></div></div></div></div></div>"
      ],
      "text/plain": [
       "SVC(gamma='auto', verbose=True)"
      ]
     },
     "execution_count": 19,
     "metadata": {},
     "output_type": "execute_result"
    }
   ],
   "source": [
    "clf_svm = SVC(kernel='rbf', gamma = 'auto', verbose=True)\n",
    "clf_svm.fit(X_train_scaled, Y_train)"
   ]
  },
  {
   "cell_type": "code",
   "execution_count": 20,
   "metadata": {},
   "outputs": [
    {
     "data": {
      "image/png": "[encoded data removed]",
      "text/plain": [
       "<Figure size 640x480 with 2 Axes>"
      ]
     },
     "metadata": {},
     "output_type": "display_data"
    }
   ],
   "source": [
    "disp=ConfusionMatrixDisplay(confusion_matrix(Y_test, clf_svm.predict(X_test_scaled)))\n",
    "disp.plot()\n",
    "plt.show()"
   ]
  },
  {
   "cell_type": "code",
   "execution_count": 67,
   "metadata": {},
   "outputs": [],
   "source": [
    "param_grid = [{'C':np.linspace(9.55,9.65,10),'gamma':np.linspace(0.012,0.014,10), 'kernel':['rbf'], 'degree': [1]}]"
   ]
  },
  {
   "cell_type": "code",
   "execution_count": 68,
   "metadata": {},
   "outputs": [],
   "source": [
    "optimal_params = GridSearchCV(SVC(), param_grid, cv =2, scoring='balanced_accuracy',n_jobs=-1, verbose = 2)"
   ]
  },
  {
   "cell_type": "code",
   "execution_count": 69,
   "metadata": {},
   "outputs": [
    {
     "name": "stdout",
     "output_type": "stream",
     "text": [
      "Fitting 2 folds for each of 100 candidates, totalling 200 fits\n",
      "[CV] END C=9.55, degree=1, gamma=0.012222222222222223, kernel=rbf; total time=   2.3s\n",
      "[CV] END C=9.55, degree=1, gamma=0.012222222222222223, kernel=rbf; total time=   2.3s\n",
      "[CV] END C=9.55, degree=1, gamma=0.012666666666666666, kernel=rbf; total time=   2.2s\n",
      "[CV] END C=9.55, degree=1, gamma=0.012888888888888889, kernel=rbf; total time=   2.2s\n",
      "[CV] END ..........C=9.55, degree=1, gamma=0.012, kernel=rbf; total time=   2.3s\n",
      "[CV] END C=9.55, degree=1, gamma=0.012666666666666666, kernel=rbf; total time=   2.3s\n",
      "[CV] END C=9.55, degree=1, gamma=0.012444444444444445, kernel=rbf; total time=   2.3s\n",
      "[CV] END ..........C=9.55, degree=1, gamma=0.012, kernel=rbf; total time=   2.4s\n",
      "[CV] END C=9.55, degree=1, gamma=0.012444444444444445, kernel=rbf; total time=   2.3s\n",
      "[CV] END C=9.55, degree=1, gamma=0.012888888888888889, kernel=rbf; total time=   2.3s\n",
      "[CV] END C=9.55, degree=1, gamma=0.013777777777777778, kernel=rbf; total time=   2.0s\n",
      "[CV] END C=9.55, degree=1, gamma=0.013111111111111112, kernel=rbf; total time=   2.1s\n",
      "[CV] END C=9.55, degree=1, gamma=0.013333333333333334, kernel=rbf; total time=   2.1s\n",
      "[CV] END C=9.55, degree=1, gamma=0.013111111111111112, kernel=rbf; total time=   2.2s\n",
      "[CV] END C=9.55, degree=1, gamma=0.013333333333333334, kernel=rbf; total time=   2.1s\n",
      "[CV] END ..........C=9.55, degree=1, gamma=0.014, kernel=rbf; total time=   2.1s\n",
      "[CV] END C=9.55, degree=1, gamma=0.013555555555555557, kernel=rbf; total time=   2.1s\n",
      "[CV] END ..........C=9.55, degree=1, gamma=0.014, kernel=rbf; total time=   2.1s\n",
      "[CV] END C=9.55, degree=1, gamma=0.013555555555555557, kernel=rbf; total time=   2.2s\n",
      "[CV] END C=9.55, degree=1, gamma=0.013777777777777778, kernel=rbf; total time=   2.2s\n",
      "[CV] END C=9.561111111111112, degree=1, gamma=0.012444444444444445, kernel=rbf; total time=   1.9s\n",
      "[CV] END C=9.561111111111112, degree=1, gamma=0.012, kernel=rbf; total time=   2.2s\n",
      "[CV] END C=9.561111111111112, degree=1, gamma=0.012, kernel=rbf; total time=   2.1s\n",
      "[CV] END C=9.561111111111112, degree=1, gamma=0.012222222222222223, kernel=rbf; total time=   2.1s\n",
      "[CV] END C=9.561111111111112, degree=1, gamma=0.012888888888888889, kernel=rbf; total time=   2.0s\n",
      "[CV] END C=9.561111111111112, degree=1, gamma=0.012444444444444445, kernel=rbf; total time=   2.2s\n",
      "[CV] END C=9.561111111111112, degree=1, gamma=0.012222222222222223, kernel=rbf; total time=   2.2s\n",
      "[CV] END C=9.561111111111112, degree=1, gamma=0.012666666666666666, kernel=rbf; total time=   2.2s\n",
      "[CV] END C=9.561111111111112, degree=1, gamma=0.012666666666666666, kernel=rbf; total time=   2.2s\n",
      "[CV] END C=9.561111111111112, degree=1, gamma=0.012888888888888889, kernel=rbf; total time=   2.2s\n",
      "[CV] END C=9.561111111111112, degree=1, gamma=0.013111111111111112, kernel=rbf; total time=   1.9s\n",
      "[CV] END C=9.561111111111112, degree=1, gamma=0.013111111111111112, kernel=rbf; total time=   2.0s\n",
      "[CV] END C=9.561111111111112, degree=1, gamma=0.013333333333333334, kernel=rbf; total time=   2.1s\n",
      "[CV] END C=9.561111111111112, degree=1, gamma=0.013333333333333334, kernel=rbf; total time=   2.1s\n",
      "[CV] END C=9.561111111111112, degree=1, gamma=0.013555555555555557, kernel=rbf; total time=   2.1s\n",
      "[CV] END C=9.561111111111112, degree=1, gamma=0.013777777777777778, kernel=rbf; total time=   2.0s\n",
      "[CV] END C=9.561111111111112, degree=1, gamma=0.013555555555555557, kernel=rbf; total time=   2.0s\n",
      "[CV] END C=9.561111111111112, degree=1, gamma=0.013777777777777778, kernel=rbf; total time=   2.0s\n",
      "[CV] END C=9.561111111111112, degree=1, gamma=0.014, kernel=rbf; total time=   2.1s\n",
      "[CV] END C=9.561111111111112, degree=1, gamma=0.014, kernel=rbf; total time=   2.1s\n",
      "[CV] END C=9.572222222222223, degree=1, gamma=0.012, kernel=rbf; total time=   2.2s\n",
      "[CV] END C=9.572222222222223, degree=1, gamma=0.012, kernel=rbf; total time=   2.3s\n",
      "[CV] END C=9.572222222222223, degree=1, gamma=0.012222222222222223, kernel=rbf; total time=   2.3s\n",
      "[CV] END C=9.572222222222223, degree=1, gamma=0.012222222222222223, kernel=rbf; total time=   2.4s\n",
      "[CV] END C=9.572222222222223, degree=1, gamma=0.012444444444444445, kernel=rbf; total time=   2.3s\n",
      "[CV] END C=9.572222222222223, degree=1, gamma=0.012666666666666666, kernel=rbf; total time=   2.4s\n",
      "[CV] END C=9.572222222222223, degree=1, gamma=0.012666666666666666, kernel=rbf; total time=   2.4s\n",
      "[CV] END C=9.572222222222223, degree=1, gamma=0.012888888888888889, kernel=rbf; total time=   2.3s\n",
      "[CV] END C=9.572222222222223, degree=1, gamma=0.012888888888888889, kernel=rbf; total time=   2.3s\n",
      "[CV] END C=9.572222222222223, degree=1, gamma=0.012444444444444445, kernel=rbf; total time=   2.5s\n",
      "[CV] END C=9.572222222222223, degree=1, gamma=0.013111111111111112, kernel=rbf; total time=   2.0s\n",
      "[CV] END C=9.572222222222223, degree=1, gamma=0.013555555555555557, kernel=rbf; total time=   2.0s\n",
      "[CV] END C=9.572222222222223, degree=1, gamma=0.013777777777777778, kernel=rbf; total time=   1.9s\n",
      "[CV] END C=9.572222222222223, degree=1, gamma=0.013333333333333334, kernel=rbf; total time=   2.0s\n",
      "[CV] END C=9.572222222222223, degree=1, gamma=0.013111111111111112, kernel=rbf; total time=   2.1s\n",
      "[CV] END C=9.572222222222223, degree=1, gamma=0.013333333333333334, kernel=rbf; total time=   2.2s\n",
      "[CV] END C=9.572222222222223, degree=1, gamma=0.014, kernel=rbf; total time=   1.9s\n",
      "[CV] END C=9.572222222222223, degree=1, gamma=0.013777777777777778, kernel=rbf; total time=   2.1s\n",
      "[CV] END C=9.572222222222223, degree=1, gamma=0.014, kernel=rbf; total time=   2.0s\n",
      "[CV] END C=9.572222222222223, degree=1, gamma=0.013555555555555557, kernel=rbf; total time=   2.1s\n",
      "[CV] END C=9.583333333333334, degree=1, gamma=0.012, kernel=rbf; total time=   2.0s\n",
      "[CV] END C=9.583333333333334, degree=1, gamma=0.012444444444444445, kernel=rbf; total time=   1.9s\n",
      "[CV] END C=9.583333333333334, degree=1, gamma=0.012, kernel=rbf; total time=   2.0s\n",
      "[CV] END C=9.583333333333334, degree=1, gamma=0.012222222222222223, kernel=rbf; total time=   2.0s\n",
      "[CV] END C=9.583333333333334, degree=1, gamma=0.012222222222222223, kernel=rbf; total time=   2.0s\n",
      "[CV] END C=9.583333333333334, degree=1, gamma=0.012666666666666666, kernel=rbf; total time=   1.9s\n",
      "[CV] END C=9.583333333333334, degree=1, gamma=0.012444444444444445, kernel=rbf; total time=   2.0s\n",
      "[CV] END C=9.583333333333334, degree=1, gamma=0.012666666666666666, kernel=rbf; total time=   2.0s\n",
      "[CV] END C=9.583333333333334, degree=1, gamma=0.012888888888888889, kernel=rbf; total time=   2.0s\n",
      "[CV] END C=9.583333333333334, degree=1, gamma=0.012888888888888889, kernel=rbf; total time=   2.0s\n",
      "[CV] END C=9.583333333333334, degree=1, gamma=0.013111111111111112, kernel=rbf; total time=   1.9s\n",
      "[CV] END C=9.583333333333334, degree=1, gamma=0.013333333333333334, kernel=rbf; total time=   1.9s\n",
      "[CV] END C=9.583333333333334, degree=1, gamma=0.013111111111111112, kernel=rbf; total time=   1.9s\n",
      "[CV] END C=9.583333333333334, degree=1, gamma=0.013333333333333334, kernel=rbf; total time=   1.9s\n",
      "[CV] END C=9.583333333333334, degree=1, gamma=0.013555555555555557, kernel=rbf; total time=   1.9s\n",
      "[CV] END C=9.583333333333334, degree=1, gamma=0.013555555555555557, kernel=rbf; total time=   1.9s\n",
      "[CV] END C=9.583333333333334, degree=1, gamma=0.013777777777777778, kernel=rbf; total time=   1.9s\n",
      "[CV] END C=9.583333333333334, degree=1, gamma=0.013777777777777778, kernel=rbf; total time=   1.9s\n",
      "[CV] END C=9.583333333333334, degree=1, gamma=0.014, kernel=rbf; total time=   2.0s\n",
      "[CV] END C=9.583333333333334, degree=1, gamma=0.014, kernel=rbf; total time=   2.1s\n",
      "[CV] END C=9.594444444444445, degree=1, gamma=0.012, kernel=rbf; total time=   2.0s\n",
      "[CV] END C=9.594444444444445, degree=1, gamma=0.012, kernel=rbf; total time=   1.9s\n",
      "[CV] END C=9.594444444444445, degree=1, gamma=0.012222222222222223, kernel=rbf; total time=   1.9s\n",
      "[CV] END C=9.594444444444445, degree=1, gamma=0.012222222222222223, kernel=rbf; total time=   2.0s\n",
      "[CV] END C=9.594444444444445, degree=1, gamma=0.012444444444444445, kernel=rbf; total time=   2.0s\n",
      "[CV] END C=9.594444444444445, degree=1, gamma=0.012444444444444445, kernel=rbf; total time=   2.0s\n",
      "[CV] END C=9.594444444444445, degree=1, gamma=0.012666666666666666, kernel=rbf; total time=   2.0s\n",
      "[CV] END C=9.594444444444445, degree=1, gamma=0.012888888888888889, kernel=rbf; total time=   1.9s\n",
      "[CV] END C=9.594444444444445, degree=1, gamma=0.012666666666666666, kernel=rbf; total time=   2.0s\n",
      "[CV] END C=9.594444444444445, degree=1, gamma=0.012888888888888889, kernel=rbf; total time=   1.9s\n",
      "[CV] END C=9.594444444444445, degree=1, gamma=0.013111111111111112, kernel=rbf; total time=   2.0s\n",
      "[CV] END C=9.594444444444445, degree=1, gamma=0.013333333333333334, kernel=rbf; total time=   2.0s\n",
      "[CV] END C=9.594444444444445, degree=1, gamma=0.013333333333333334, kernel=rbf; total time=   2.0s\n",
      "[CV] END C=9.594444444444445, degree=1, gamma=0.013111111111111112, kernel=rbf; total time=   2.1s\n",
      "[CV] END C=9.594444444444445, degree=1, gamma=0.013555555555555557, kernel=rbf; total time=   2.0s\n",
      "[CV] END C=9.594444444444445, degree=1, gamma=0.013777777777777778, kernel=rbf; total time=   1.9s\n",
      "[CV] END C=9.594444444444445, degree=1, gamma=0.013555555555555557, kernel=rbf; total time=   2.0s\n",
      "[CV] END C=9.594444444444445, degree=1, gamma=0.014, kernel=rbf; total time=   2.1s\n",
      "[CV] END C=9.594444444444445, degree=1, gamma=0.014, kernel=rbf; total time=   2.1s\n",
      "[CV] END C=9.594444444444445, degree=1, gamma=0.013777777777777778, kernel=rbf; total time=   2.2s\n",
      "[CV] END C=9.605555555555556, degree=1, gamma=0.012, kernel=rbf; total time=   1.9s\n",
      "[CV] END C=9.605555555555556, degree=1, gamma=0.012, kernel=rbf; total time=   1.9s\n",
      "[CV] END C=9.605555555555556, degree=1, gamma=0.012222222222222223, kernel=rbf; total time=   2.0s\n",
      "[CV] END C=9.605555555555556, degree=1, gamma=0.012444444444444445, kernel=rbf; total time=   2.0s\n",
      "[CV] END C=9.605555555555556, degree=1, gamma=0.012444444444444445, kernel=rbf; total time=   1.9s\n",
      "[CV] END C=9.605555555555556, degree=1, gamma=0.012666666666666666, kernel=rbf; total time=   2.0s\n",
      "[CV] END C=9.605555555555556, degree=1, gamma=0.012222222222222223, kernel=rbf; total time=   2.1s\n",
      "[CV] END C=9.605555555555556, degree=1, gamma=0.012666666666666666, kernel=rbf; total time=   1.9s\n",
      "[CV] END C=9.605555555555556, degree=1, gamma=0.012888888888888889, kernel=rbf; total time=   1.9s\n",
      "[CV] END C=9.605555555555556, degree=1, gamma=0.012888888888888889, kernel=rbf; total time=   1.9s\n",
      "[CV] END C=9.605555555555556, degree=1, gamma=0.013111111111111112, kernel=rbf; total time=   2.0s\n",
      "[CV] END C=9.605555555555556, degree=1, gamma=0.013111111111111112, kernel=rbf; total time=   1.9s\n",
      "[CV] END C=9.605555555555556, degree=1, gamma=0.013333333333333334, kernel=rbf; total time=   1.9s\n",
      "[CV] END C=9.605555555555556, degree=1, gamma=0.013333333333333334, kernel=rbf; total time=   2.0s\n",
      "[CV] END C=9.605555555555556, degree=1, gamma=0.013555555555555557, kernel=rbf; total time=   1.9s\n",
      "[CV] END C=9.605555555555556, degree=1, gamma=0.013555555555555557, kernel=rbf; total time=   2.0s\n",
      "[CV] END C=9.605555555555556, degree=1, gamma=0.013777777777777778, kernel=rbf; total time=   1.9s\n",
      "[CV] END C=9.605555555555556, degree=1, gamma=0.013777777777777778, kernel=rbf; total time=   2.1s\n",
      "[CV] END C=9.605555555555556, degree=1, gamma=0.014, kernel=rbf; total time=   1.9s\n",
      "[CV] END C=9.605555555555556, degree=1, gamma=0.014, kernel=rbf; total time=   2.0s\n",
      "[CV] END C=9.616666666666667, degree=1, gamma=0.012, kernel=rbf; total time=   1.9s\n",
      "[CV] END C=9.616666666666667, degree=1, gamma=0.012, kernel=rbf; total time=   1.9s\n",
      "[CV] END C=9.616666666666667, degree=1, gamma=0.012222222222222223, kernel=rbf; total time=   1.9s\n",
      "[CV] END C=9.616666666666667, degree=1, gamma=0.012444444444444445, kernel=rbf; total time=   1.9s\n",
      "[CV] END C=9.616666666666667, degree=1, gamma=0.012222222222222223, kernel=rbf; total time=   2.0s\n",
      "[CV] END C=9.616666666666667, degree=1, gamma=0.012444444444444445, kernel=rbf; total time=   2.0s\n",
      "[CV] END C=9.616666666666667, degree=1, gamma=0.012666666666666666, kernel=rbf; total time=   1.9s\n",
      "[CV] END C=9.616666666666667, degree=1, gamma=0.012666666666666666, kernel=rbf; total time=   1.9s\n",
      "[CV] END C=9.616666666666667, degree=1, gamma=0.012888888888888889, kernel=rbf; total time=   2.0s\n",
      "[CV] END C=9.616666666666667, degree=1, gamma=0.012888888888888889, kernel=rbf; total time=   1.9s\n",
      "[CV] END C=9.616666666666667, degree=1, gamma=0.013111111111111112, kernel=rbf; total time=   2.0s\n",
      "[CV] END C=9.616666666666667, degree=1, gamma=0.013111111111111112, kernel=rbf; total time=   2.0s\n",
      "[CV] END C=9.616666666666667, degree=1, gamma=0.013333333333333334, kernel=rbf; total time=   1.9s\n",
      "[CV] END C=9.616666666666667, degree=1, gamma=0.013333333333333334, kernel=rbf; total time=   1.9s\n",
      "[CV] END C=9.616666666666667, degree=1, gamma=0.013555555555555557, kernel=rbf; total time=   2.0s\n",
      "[CV] END C=9.616666666666667, degree=1, gamma=0.013555555555555557, kernel=rbf; total time=   1.9s\n",
      "[CV] END C=9.616666666666667, degree=1, gamma=0.013777777777777778, kernel=rbf; total time=   1.9s\n",
      "[CV] END C=9.616666666666667, degree=1, gamma=0.013777777777777778, kernel=rbf; total time=   1.9s\n",
      "[CV] END C=9.616666666666667, degree=1, gamma=0.014, kernel=rbf; total time=   1.9s\n",
      "[CV] END C=9.616666666666667, degree=1, gamma=0.014, kernel=rbf; total time=   2.0s\n",
      "[CV] END C=9.627777777777778, degree=1, gamma=0.012, kernel=rbf; total time=   1.9s\n",
      "[CV] END C=9.627777777777778, degree=1, gamma=0.012, kernel=rbf; total time=   1.9s\n",
      "[CV] END C=9.627777777777778, degree=1, gamma=0.012222222222222223, kernel=rbf; total time=   1.9s\n",
      "[CV] END C=9.627777777777778, degree=1, gamma=0.012222222222222223, kernel=rbf; total time=   2.0s\n",
      "[CV] END C=9.627777777777778, degree=1, gamma=0.012444444444444445, kernel=rbf; total time=   1.9s\n",
      "[CV] END C=9.627777777777778, degree=1, gamma=0.012444444444444445, kernel=rbf; total time=   2.0s\n",
      "[CV] END C=9.627777777777778, degree=1, gamma=0.012666666666666666, kernel=rbf; total time=   2.0s\n",
      "[CV] END C=9.627777777777778, degree=1, gamma=0.012666666666666666, kernel=rbf; total time=   2.0s\n",
      "[CV] END C=9.627777777777778, degree=1, gamma=0.012888888888888889, kernel=rbf; total time=   2.0s\n",
      "[CV] END C=9.627777777777778, degree=1, gamma=0.012888888888888889, kernel=rbf; total time=   1.9s\n",
      "[CV] END C=9.627777777777778, degree=1, gamma=0.013111111111111112, kernel=rbf; total time=   1.9s\n",
      "[CV] END C=9.627777777777778, degree=1, gamma=0.013111111111111112, kernel=rbf; total time=   1.9s\n",
      "[CV] END C=9.627777777777778, degree=1, gamma=0.013333333333333334, kernel=rbf; total time=   2.0s\n",
      "[CV] END C=9.627777777777778, degree=1, gamma=0.013333333333333334, kernel=rbf; total time=   2.1s\n",
      "[CV] END C=9.627777777777778, degree=1, gamma=0.013555555555555557, kernel=rbf; total time=   1.9s\n",
      "[CV] END C=9.627777777777778, degree=1, gamma=0.013777777777777778, kernel=rbf; total time=   1.9s\n",
      "[CV] END C=9.627777777777778, degree=1, gamma=0.013555555555555557, kernel=rbf; total time=   1.9s\n",
      "[CV] END C=9.627777777777778, degree=1, gamma=0.013777777777777778, kernel=rbf; total time=   1.9s\n",
      "[CV] END C=9.627777777777778, degree=1, gamma=0.014, kernel=rbf; total time=   1.9s\n",
      "[CV] END C=9.627777777777778, degree=1, gamma=0.014, kernel=rbf; total time=   2.0s\n",
      "[CV] END C=9.63888888888889, degree=1, gamma=0.012, kernel=rbf; total time=   2.0s\n",
      "[CV] END C=9.63888888888889, degree=1, gamma=0.012, kernel=rbf; total time=   2.0s\n",
      "[CV] END C=9.63888888888889, degree=1, gamma=0.012222222222222223, kernel=rbf; total time=   1.9s\n",
      "[CV] END C=9.63888888888889, degree=1, gamma=0.012444444444444445, kernel=rbf; total time=   1.9s\n",
      "[CV] END C=9.63888888888889, degree=1, gamma=0.012666666666666666, kernel=rbf; total time=   1.8s\n",
      "[CV] END C=9.63888888888889, degree=1, gamma=0.012222222222222223, kernel=rbf; total time=   2.1s\n",
      "[CV] END C=9.63888888888889, degree=1, gamma=0.012666666666666666, kernel=rbf; total time=   1.9s\n",
      "[CV] END C=9.63888888888889, degree=1, gamma=0.012444444444444445, kernel=rbf; total time=   2.1s\n",
      "[CV] END C=9.63888888888889, degree=1, gamma=0.012888888888888889, kernel=rbf; total time=   1.9s\n",
      "[CV] END C=9.63888888888889, degree=1, gamma=0.012888888888888889, kernel=rbf; total time=   2.0s\n",
      "[CV] END C=9.63888888888889, degree=1, gamma=0.013111111111111112, kernel=rbf; total time=   2.0s\n",
      "[CV] END C=9.63888888888889, degree=1, gamma=0.013111111111111112, kernel=rbf; total time=   2.0s\n",
      "[CV] END C=9.63888888888889, degree=1, gamma=0.013333333333333334, kernel=rbf; total time=   1.9s\n",
      "[CV] END C=9.63888888888889, degree=1, gamma=0.013333333333333334, kernel=rbf; total time=   1.9s\n",
      "[CV] END C=9.63888888888889, degree=1, gamma=0.013555555555555557, kernel=rbf; total time=   1.9s\n",
      "[CV] END C=9.63888888888889, degree=1, gamma=0.013777777777777778, kernel=rbf; total time=   1.8s\n",
      "[CV] END C=9.63888888888889, degree=1, gamma=0.013555555555555557, kernel=rbf; total time=   2.0s\n",
      "[CV] END C=9.63888888888889, degree=1, gamma=0.013777777777777778, kernel=rbf; total time=   2.0s\n",
      "[CV] END C=9.63888888888889, degree=1, gamma=0.014, kernel=rbf; total time=   1.9s\n",
      "[CV] END C=9.63888888888889, degree=1, gamma=0.014, kernel=rbf; total time=   2.0s\n",
      "[CV] END ..........C=9.65, degree=1, gamma=0.012, kernel=rbf; total time=   2.1s\n",
      "[CV] END ..........C=9.65, degree=1, gamma=0.012, kernel=rbf; total time=   2.0s\n",
      "[CV] END C=9.65, degree=1, gamma=0.012222222222222223, kernel=rbf; total time=   1.9s\n",
      "[CV] END C=9.65, degree=1, gamma=0.012222222222222223, kernel=rbf; total time=   2.0s\n",
      "[CV] END C=9.65, degree=1, gamma=0.012444444444444445, kernel=rbf; total time=   2.0s\n",
      "[CV] END C=9.65, degree=1, gamma=0.012444444444444445, kernel=rbf; total time=   2.0s\n",
      "[CV] END C=9.65, degree=1, gamma=0.012666666666666666, kernel=rbf; total time=   2.1s\n",
      "[CV] END C=9.65, degree=1, gamma=0.012666666666666666, kernel=rbf; total time=   1.9s\n",
      "[CV] END C=9.65, degree=1, gamma=0.012888888888888889, kernel=rbf; total time=   2.0s\n",
      "[CV] END C=9.65, degree=1, gamma=0.012888888888888889, kernel=rbf; total time=   1.9s\n",
      "[CV] END C=9.65, degree=1, gamma=0.013111111111111112, kernel=rbf; total time=   1.9s\n",
      "[CV] END C=9.65, degree=1, gamma=0.013111111111111112, kernel=rbf; total time=   2.0s\n",
      "[CV] END C=9.65, degree=1, gamma=0.013333333333333334, kernel=rbf; total time=   1.9s\n",
      "[CV] END C=9.65, degree=1, gamma=0.013333333333333334, kernel=rbf; total time=   2.1s\n",
      "[CV] END C=9.65, degree=1, gamma=0.013555555555555557, kernel=rbf; total time=   1.9s\n",
      "[CV] END C=9.65, degree=1, gamma=0.013555555555555557, kernel=rbf; total time=   1.9s\n",
      "[CV] END C=9.65, degree=1, gamma=0.013777777777777778, kernel=rbf; total time=   1.9s\n",
      "[CV] END C=9.65, degree=1, gamma=0.013777777777777778, kernel=rbf; total time=   1.9s\n",
      "[CV] END ..........C=9.65, degree=1, gamma=0.014, kernel=rbf; total time=   1.9s\n",
      "[CV] END ..........C=9.65, degree=1, gamma=0.014, kernel=rbf; total time=   1.8s\n"
     ]
    },
    {
     "data": {
      "text/html": [
       "<style>#sk-container-id-14 {color: black;}#sk-container-id-14 pre{padding: 0;}#sk-container-id-14 div.sk-toggleable {background-color: white;}#sk-container-id-14 label.sk-toggleable__label {cursor: pointer;display: block;width: 100%;margin-bottom: 0;padding: 0.3em;box-sizing: border-box;text-align: center;}#sk-container-id-14 label.sk-toggleable__label-arrow:before {content: \"▸\";float: left;margin-right: 0.25em;color: #696969;}#sk-container-id-14 label.sk-toggleable__label-arrow:hover:before {color: black;}#sk-container-id-14 div.sk-estimator:hover label.sk-toggleable__label-arrow:before {color: black;}#sk-container-id-14 div.sk-toggleable__content {max-height: 0;max-width: 0;overflow: hidden;text-align: left;background-color: #f0f8ff;}#sk-container-id-14 div.sk-toggleable__content pre {margin: 0.2em;color: black;border-radius: 0.25em;background-color: #f0f8ff;}#sk-container-id-14 input.sk-toggleable__control:checked~div.sk-toggleable__content {max-height: 200px;max-width: 100%;overflow: auto;}#sk-container-id-14 input.sk-toggleable__control:checked~label.sk-toggleable__label-arrow:before {content: \"▾\";}#sk-container-id-14 div.sk-estimator input.sk-toggleable__control:checked~label.sk-toggleable__label {background-color: #d4ebff;}#sk-container-id-14 div.sk-label input.sk-toggleable__control:checked~label.sk-toggleable__label {background-color: #d4ebff;}#sk-container-id-14 input.sk-hidden--visually {border: 0;clip: rect(1px 1px 1px 1px);clip: rect(1px, 1px, 1px, 1px);height: 1px;margin: -1px;overflow: hidden;padding: 0;position: absolute;width: 1px;}#sk-container-id-14 div.sk-estimator {font-family: monospace;background-color: #f0f8ff;border: 1px dotted black;border-radius: 0.25em;box-sizing: border-box;margin-bottom: 0.5em;}#sk-container-id-14 div.sk-estimator:hover {background-color: #d4ebff;}#sk-container-id-14 div.sk-parallel-item::after {content: \"\";width: 100%;border-bottom: 1px solid gray;flex-grow: 1;}#sk-container-id-14 div.sk-label:hover label.sk-toggleable__label {background-color: #d4ebff;}#sk-container-id-14 div.sk-serial::before {content: \"\";position: absolute;border-left: 1px solid gray;box-sizing: border-box;top: 0;bottom: 0;left: 50%;z-index: 0;}#sk-container-id-14 div.sk-serial {display: flex;flex-direction: column;align-items: center;background-color: white;padding-right: 0.2em;padding-left: 0.2em;position: relative;}#sk-container-id-14 div.sk-item {position: relative;z-index: 1;}#sk-container-id-14 div.sk-parallel {display: flex;align-items: stretch;justify-content: center;background-color: white;position: relative;}#sk-container-id-14 div.sk-item::before, #sk-container-id-14 div.sk-parallel-item::before {content: \"\";position: absolute;border-left: 1px solid gray;box-sizing: border-box;top: 0;bottom: 0;left: 50%;z-index: -1;}#sk-container-id-14 div.sk-parallel-item {display: flex;flex-direction: column;z-index: 1;position: relative;background-color: white;}#sk-container-id-14 div.sk-parallel-item:first-child::after {align-self: flex-end;width: 50%;}#sk-container-id-14 div.sk-parallel-item:last-child::after {align-self: flex-start;width: 50%;}#sk-container-id-14 div.sk-parallel-item:only-child::after {width: 0;}#sk-container-id-14 div.sk-dashed-wrapped {border: 1px dashed gray;margin: 0 0.4em 0.5em 0.4em;box-sizing: border-box;padding-bottom: 0.4em;background-color: white;}#sk-container-id-14 div.sk-label label {font-family: monospace;font-weight: bold;display: inline-block;line-height: 1.2em;}#sk-container-id-14 div.sk-label-container {text-align: center;}#sk-container-id-14 div.sk-container {/* jupyter's `normalize.less` sets `[hidden] { display: none; }` but bootstrap.min.css set `[hidden] { display: none !important; }` so we also need the `!important` here to be able to override the default hidden behavior on the sphinx rendered scikit-learn.org. See: https://github.com/scikit-learn/scikit-learn/issues/21755 */display: inline-block !important;position: relative;}#sk-container-id-14 div.sk-text-repr-fallback {display: none;}</style><div id=\"sk-container-id-14\" class=\"sk-top-container\"><div class=\"sk-text-repr-fallback\"><pre>GridSearchCV(cv=2, estimator=SVC(), n_jobs=-1,\n",
       "             param_grid=[{&#x27;C&#x27;: array([9.55      , 9.56111111, 9.57222222, 9.58333333, 9.59444444,\n",
       "       9.60555556, 9.61666667, 9.62777778, 9.63888889, 9.65      ]),\n",
       "                          &#x27;degree&#x27;: [1],\n",
       "                          &#x27;gamma&#x27;: array([0.012     , 0.01222222, 0.01244444, 0.01266667, 0.01288889,\n",
       "       0.01311111, 0.01333333, 0.01355556, 0.01377778, 0.014     ]),\n",
       "                          &#x27;kernel&#x27;: [&#x27;rbf&#x27;]}],\n",
       "             scoring=&#x27;balanced_accuracy&#x27;, verbose=2)</pre><b>In a Jupyter environment, please rerun this cell to show the HTML representation or trust the notebook. <br />On GitHub, the HTML representation is unable to render, please try loading this page with nbviewer.org.</b></div><div class=\"sk-container\" hidden><div class=\"sk-item sk-dashed-wrapped\"><div class=\"sk-label-container\"><div class=\"sk-label sk-toggleable\"><input class=\"sk-toggleable__control sk-hidden--visually\" id=\"sk-estimator-id-36\" type=\"checkbox\" ><label for=\"sk-estimator-id-36\" class=\"sk-toggleable__label sk-toggleable__label-arrow\">GridSearchCV</label><div class=\"sk-toggleable__content\"><pre>GridSearchCV(cv=2, estimator=SVC(), n_jobs=-1,\n",
       "             param_grid=[{&#x27;C&#x27;: array([9.55      , 9.56111111, 9.57222222, 9.58333333, 9.59444444,\n",
       "       9.60555556, 9.61666667, 9.62777778, 9.63888889, 9.65      ]),\n",
       "                          &#x27;degree&#x27;: [1],\n",
       "                          &#x27;gamma&#x27;: array([0.012     , 0.01222222, 0.01244444, 0.01266667, 0.01288889,\n",
       "       0.01311111, 0.01333333, 0.01355556, 0.01377778, 0.014     ]),\n",
       "                          &#x27;kernel&#x27;: [&#x27;rbf&#x27;]}],\n",
       "             scoring=&#x27;balanced_accuracy&#x27;, verbose=2)</pre></div></div></div><div class=\"sk-parallel\"><div class=\"sk-parallel-item\"><div class=\"sk-item\"><div class=\"sk-label-container\"><div class=\"sk-label sk-toggleable\"><input class=\"sk-toggleable__control sk-hidden--visually\" id=\"sk-estimator-id-37\" type=\"checkbox\" ><label for=\"sk-estimator-id-37\" class=\"sk-toggleable__label sk-toggleable__label-arrow\">estimator: SVC</label><div class=\"sk-toggleable__content\"><pre>SVC()</pre></div></div></div><div class=\"sk-serial\"><div class=\"sk-item\"><div class=\"sk-estimator sk-toggleable\"><input class=\"sk-toggleable__control sk-hidden--visually\" id=\"sk-estimator-id-38\" type=\"checkbox\" ><label for=\"sk-estimator-id-38\" class=\"sk-toggleable__label sk-toggleable__label-arrow\">SVC</label><div class=\"sk-toggleable__content\"><pre>SVC()</pre></div></div></div></div></div></div></div></div></div></div>"
      ],
      "text/plain": [
       "GridSearchCV(cv=2, estimator=SVC(), n_jobs=-1,\n",
       "             param_grid=[{'C': array([9.55      , 9.56111111, 9.57222222, 9.58333333, 9.59444444,\n",
       "       9.60555556, 9.61666667, 9.62777778, 9.63888889, 9.65      ]),\n",
       "                          'degree': [1],\n",
       "                          'gamma': array([0.012     , 0.01222222, 0.01244444, 0.01266667, 0.01288889,\n",
       "       0.01311111, 0.01333333, 0.01355556, 0.01377778, 0.014     ]),\n",
       "                          'kernel': ['rbf']}],\n",
       "             scoring='balanced_accuracy', verbose=2)"
      ]
     },
     "execution_count": 69,
     "metadata": {},
     "output_type": "execute_result"
    }
   ],
   "source": [
    "optimal_params.fit(X_train_scaled, Y_train)"
   ]
  },
  {
   "cell_type": "code",
   "execution_count": 70,
   "metadata": {},
   "outputs": [
    {
     "data": {
      "text/plain": [
       "{'C': 9.616666666666667,\n",
       " 'degree': 1,\n",
       " 'gamma': 0.013777777777777778,\n",
       " 'kernel': 'rbf'}"
      ]
     },
     "execution_count": 70,
     "metadata": {},
     "output_type": "execute_result"
    }
   ],
   "source": [
    "optimal_params.best_params_"
   ]
  },
  {
   "cell_type": "code",
   "execution_count": 42,
   "metadata": {},
   "outputs": [
    {
     "data": {
      "text/plain": [
       "{'C': 9.796122448979592, 'degree': 1, 'gamma': 0.01, 'kernel': 'rbf'}"
      ]
     },
     "execution_count": 42,
     "metadata": {},
     "output_type": "execute_result"
    }
   ],
   "source": [
    "optimal_params.best_params_"
   ]
  },
  {
   "cell_type": "code",
   "execution_count": 71,
   "metadata": {},
   "outputs": [
    {
     "name": "stdout",
     "output_type": "stream",
     "text": [
      "[LibSVM]..................*..........*\n",
      "optimization finished, #iter = 28158\n",
      "obj = -58750.438956, rho = 1.345470\n",
      "nSV = 6615, nBSV = 6082\n",
      "Total nSV = 6615\n"
     ]
    },
    {
     "data": {
      "text/html": [
       "<style>#sk-container-id-15 {color: black;}#sk-container-id-15 pre{padding: 0;}#sk-container-id-15 div.sk-toggleable {background-color: white;}#sk-container-id-15 label.sk-toggleable__label {cursor: pointer;display: block;width: 100%;margin-bottom: 0;padding: 0.3em;box-sizing: border-box;text-align: center;}#sk-container-id-15 label.sk-toggleable__label-arrow:before {content: \"▸\";float: left;margin-right: 0.25em;color: #696969;}#sk-container-id-15 label.sk-toggleable__label-arrow:hover:before {color: black;}#sk-container-id-15 div.sk-estimator:hover label.sk-toggleable__label-arrow:before {color: black;}#sk-container-id-15 div.sk-toggleable__content {max-height: 0;max-width: 0;overflow: hidden;text-align: left;background-color: #f0f8ff;}#sk-container-id-15 div.sk-toggleable__content pre {margin: 0.2em;color: black;border-radius: 0.25em;background-color: #f0f8ff;}#sk-container-id-15 input.sk-toggleable__control:checked~div.sk-toggleable__content {max-height: 200px;max-width: 100%;overflow: auto;}#sk-container-id-15 input.sk-toggleable__control:checked~label.sk-toggleable__label-arrow:before {content: \"▾\";}#sk-container-id-15 div.sk-estimator input.sk-toggleable__control:checked~label.sk-toggleable__label {background-color: #d4ebff;}#sk-container-id-15 div.sk-label input.sk-toggleable__control:checked~label.sk-toggleable__label {background-color: #d4ebff;}#sk-container-id-15 input.sk-hidden--visually {border: 0;clip: rect(1px 1px 1px 1px);clip: rect(1px, 1px, 1px, 1px);height: 1px;margin: -1px;overflow: hidden;padding: 0;position: absolute;width: 1px;}#sk-container-id-15 div.sk-estimator {font-family: monospace;background-color: #f0f8ff;border: 1px dotted black;border-radius: 0.25em;box-sizing: border-box;margin-bottom: 0.5em;}#sk-container-id-15 div.sk-estimator:hover {background-color: #d4ebff;}#sk-container-id-15 div.sk-parallel-item::after {content: \"\";width: 100%;border-bottom: 1px solid gray;flex-grow: 1;}#sk-container-id-15 div.sk-label:hover label.sk-toggleable__label {background-color: #d4ebff;}#sk-container-id-15 div.sk-serial::before {content: \"\";position: absolute;border-left: 1px solid gray;box-sizing: border-box;top: 0;bottom: 0;left: 50%;z-index: 0;}#sk-container-id-15 div.sk-serial {display: flex;flex-direction: column;align-items: center;background-color: white;padding-right: 0.2em;padding-left: 0.2em;position: relative;}#sk-container-id-15 div.sk-item {position: relative;z-index: 1;}#sk-container-id-15 div.sk-parallel {display: flex;align-items: stretch;justify-content: center;background-color: white;position: relative;}#sk-container-id-15 div.sk-item::before, #sk-container-id-15 div.sk-parallel-item::before {content: \"\";position: absolute;border-left: 1px solid gray;box-sizing: border-box;top: 0;bottom: 0;left: 50%;z-index: -1;}#sk-container-id-15 div.sk-parallel-item {display: flex;flex-direction: column;z-index: 1;position: relative;background-color: white;}#sk-container-id-15 div.sk-parallel-item:first-child::after {align-self: flex-end;width: 50%;}#sk-container-id-15 div.sk-parallel-item:last-child::after {align-self: flex-start;width: 50%;}#sk-container-id-15 div.sk-parallel-item:only-child::after {width: 0;}#sk-container-id-15 div.sk-dashed-wrapped {border: 1px dashed gray;margin: 0 0.4em 0.5em 0.4em;box-sizing: border-box;padding-bottom: 0.4em;background-color: white;}#sk-container-id-15 div.sk-label label {font-family: monospace;font-weight: bold;display: inline-block;line-height: 1.2em;}#sk-container-id-15 div.sk-label-container {text-align: center;}#sk-container-id-15 div.sk-container {/* jupyter's `normalize.less` sets `[hidden] { display: none; }` but bootstrap.min.css set `[hidden] { display: none !important; }` so we also need the `!important` here to be able to override the default hidden behavior on the sphinx rendered scikit-learn.org. See: https://github.com/scikit-learn/scikit-learn/issues/21755 */display: inline-block !important;position: relative;}#sk-container-id-15 div.sk-text-repr-fallback {display: none;}</style><div id=\"sk-container-id-15\" class=\"sk-top-container\"><div class=\"sk-text-repr-fallback\"><pre>SVC(C=9.61666666, degree=1, gamma=0.01377777, verbose=True)</pre><b>In a Jupyter environment, please rerun this cell to show the HTML representation or trust the notebook. <br />On GitHub, the HTML representation is unable to render, please try loading this page with nbviewer.org.</b></div><div class=\"sk-container\" hidden><div class=\"sk-item\"><div class=\"sk-estimator sk-toggleable\"><input class=\"sk-toggleable__control sk-hidden--visually\" id=\"sk-estimator-id-39\" type=\"checkbox\" checked><label for=\"sk-estimator-id-39\" class=\"sk-toggleable__label sk-toggleable__label-arrow\">SVC</label><div class=\"sk-toggleable__content\"><pre>SVC(C=9.61666666, degree=1, gamma=0.01377777, verbose=True)</pre></div></div></div></div></div>"
      ],
      "text/plain": [
       "SVC(C=9.61666666, degree=1, gamma=0.01377777, verbose=True)"
      ]
     },
     "execution_count": 71,
     "metadata": {},
     "output_type": "execute_result"
    }
   ],
   "source": [
    "clf_svm = SVC(degree = 1, kernel='rbf', gamma = 0.01377777, C = 9.61666666, verbose=True)\n",
    "clf_svm.fit(X_train_scaled, Y_train)"
   ]
  },
  {
   "cell_type": "code",
   "execution_count": 72,
   "metadata": {},
   "outputs": [
    {
     "data": {
      "image/png": "[encoded data removed]",
      "text/plain": [
       "<Figure size 640x480 with 2 Axes>"
      ]
     },
     "metadata": {},
     "output_type": "display_data"
    }
   ],
   "source": [
    "disp=ConfusionMatrixDisplay(confusion_matrix(Y_test, clf_svm.predict(X_test_scaled)))\n",
    "disp.plot()\n",
    "plt.show()"
   ]
  },
  {
   "cell_type": "markdown",
   "metadata": {},
   "source": [
    "81.2%, 18.7%\n",
    "\n",
    "41.8%, 56.8%"
   ]
  },
  {
   "cell_type": "markdown",
   "metadata": {},
   "source": [
    "88.8%, 11.2%\n",
    "\n",
    "49.8%, 50.2%"
   ]
  },
  {
   "cell_type": "code",
   "execution_count": null,
   "metadata": {},
   "outputs": [],
   "source": [
    "import pandas as pd\n",
    "data = pd.read_csv('data.csv')"
   ]
  }
 ],
 "metadata": {
  "kernelspec": {
   "display_name": ".venv",
   "language": "python",
   "name": "python3"
  },
  "language_info": {
   "codemirror_mode": {
    "name": "ipython",
    "version": 3
   },
   "file_extension": ".py",
   "mimetype": "text/x-python",
   "name": "python",
   "nbconvert_exporter": "python",
   "pygments_lexer": "ipython3",
   "version": "3.9.6"
  },
  "orig_nbformat": 4
 },
 "nbformat": 4,
 "nbformat_minor": 2
}
